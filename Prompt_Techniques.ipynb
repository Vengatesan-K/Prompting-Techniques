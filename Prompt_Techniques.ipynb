{
 "cells": [
  {
   "cell_type": "markdown",
   "metadata": {},
   "source": [
    "# Prompt Techniques"
   ]
  },
  {
   "cell_type": "markdown",
   "metadata": {},
   "source": [
    "> Using Langchain and OpenAI"
   ]
  },
  {
   "cell_type": "code",
   "execution_count": 1,
   "metadata": {
    "colab": {
     "base_uri": "https://localhost:8080/"
    },
    "id": "GPU6jLUG4mmD",
    "outputId": "ad984b0a-fba8-44be-9fee-ea7976f5e3f0"
   },
   "outputs": [],
   "source": [
    "#pip install openai"
   ]
  },
  {
   "cell_type": "code",
   "execution_count": 2,
   "metadata": {
    "colab": {
     "base_uri": "https://localhost:8080/"
    },
    "id": "aUtBHVEy3lns",
    "outputId": "3ce5fab9-d22f-4ee8-e014-c05c987586d7"
   },
   "outputs": [],
   "source": [
    "#pip install langchain"
   ]
  },
  {
   "cell_type": "code",
   "execution_count": null,
   "metadata": {},
   "outputs": [],
   "source": [
    "import os\n",
    "\n",
    "os.environ['OPENAI_API_KEY'] = OPENAI_API_KEY"
   ]
  },
  {
   "cell_type": "markdown",
   "metadata": {},
   "source": [
    "## Prompt Templates from LangChain"
   ]
  },
  {
   "cell_type": "code",
   "execution_count": 5,
   "metadata": {
    "colab": {
     "base_uri": "https://localhost:8080/"
    },
    "id": "Na5ctjAV1__f",
    "outputId": "aec03b55-b52e-4028-9610-c4432a6fb49e"
   },
   "outputs": [
    {
     "name": "stdout",
     "output_type": "stream",
     "text": [
      "I want you to act as a product description assistant for people. In a easy way, explain the basics of mobile phone.\n"
     ]
    }
   ],
   "source": [
    "from langchain import PromptTemplate\n",
    "\n",
    "demo_template = \"\"\"I want you to act as a product description assistant for people. In a easy way, explain the basics of {product}.\"\"\"\n",
    "prompt = PromptTemplate(\n",
    "  input_variables=[\"product\"],\n",
    "  template=demo_template,\n",
    ")\n",
    "print(prompt.format(product=\"mobile phone\"))"
   ]
  },
  {
   "cell_type": "markdown",
   "metadata": {},
   "source": [
    "### Zero-Shot prompting"
   ]
  },
  {
   "cell_type": "code",
   "execution_count": 6,
   "metadata": {
    "colab": {
     "base_uri": "https://localhost:8080/",
     "height": 212
    },
    "id": "kNLne2W82AC_",
    "outputId": "9be8fef4-064b-4d8e-9767-14e2354ff9d6"
   },
   "outputs": [
    {
     "name": "stderr",
     "output_type": "stream",
     "text": [
      "/usr/local/lib/python3.10/dist-packages/langchain_core/_api/deprecation.py:117: LangChainDeprecationWarning: The class `langchain_community.llms.openai.OpenAI` was deprecated in langchain-community 0.0.10 and will be removed in 0.2.0. An updated version of the class exists in the langchain-openai package and should be used instead. To use it run `pip install -U langchain-openai` and import as `from langchain_openai import OpenAI`.\n",
      "  warn_deprecated(\n",
      "/usr/local/lib/python3.10/dist-packages/langchain_core/_api/deprecation.py:117: LangChainDeprecationWarning: The function `run` was deprecated in LangChain 0.1.0 and will be removed in 0.2.0. Use invoke instead.\n",
      "  warn_deprecated(\n"
     ]
    },
    {
     "data": {
      "application/vnd.google.colaboratory.intrinsic+json": {
       "type": "string"
      },
      "text/plain": [
       "'\\n\\nA mobile phone is a small electronic device that allows you to make and receive calls, send and receive text messages, and access the internet. It is also commonly known as a cell phone or smartphone.\\n\\nMobile phones are designed to be portable and can easily fit in your pocket or purse. They are powered by a battery and can be charged using a charger or via a USB cable connected to a computer or power outlet.\\n\\nOne of the key features of a mobile phone is its ability to make and receive calls. This is done by connecting to a cellular network, which allows you to communicate with others who have mobile phones or landline phones.\\n\\nIn addition to calls, mobile phones also allow you to send and receive text messages. These are short written messages that can be sent to other mobile phone users.\\n\\nAnother important feature of mobile phones is their internet connectivity. This allows you to access the internet, check emails, browse websites, and use various apps.\\n\\nMost modern mobile phones also come with a built-in camera, allowing you to take photos and videos. They may also have other features such as a music player, GPS navigation, and the ability to download and use various apps.\\n\\nMobile phones come in a variety of shapes, sizes, and designs, with many different brands and models available'"
      ]
     },
     "execution_count": 6,
     "metadata": {},
     "output_type": "execute_result"
    }
   ],
   "source": [
    "from langchain.llms import OpenAI\n",
    "from langchain.chains import LLMChain\n",
    "\n",
    "llm = OpenAI(temperature=0.7)\n",
    "chain = LLMChain(llm=llm, prompt=prompt)\n",
    "chain.run(\"mobile phone\")"
   ]
  },
  {
   "cell_type": "code",
   "execution_count": null,
   "metadata": {
    "colab": {
     "base_uri": "https://localhost:8080/",
     "height": 244
    },
    "id": "ndZsvTp_2AFv",
    "outputId": "60057c4e-0dde-4e9b-d1f9-21f52d22d369"
   },
   "outputs": [
    {
     "data": {
      "application/vnd.google.colaboratory.intrinsic+json": {
       "type": "string"
      },
      "text/plain": [
       "'\\n\\nEarbuds are small, lightweight headphones that fit snugly into your ears. They are designed to provide a convenient and comfortable way to listen to music, podcasts, or other audio on-the-go. \\n\\nMost earbuds have a small, round shape with a soft silicone or foam tip that fits into the ear canal. This helps to block out external noise and provide a better listening experience. \\n\\nEarbuds come in both wired and wireless options. Wired earbuds have a cord that connects to your device, while wireless earbuds use Bluetooth technology to connect wirelessly. \\n\\nOne of the main benefits of earbuds is their portability. They are small enough to fit in your pocket or bag, making them perfect for travel or daily use. \\n\\nWhen choosing earbuds, it is important to consider factors such as sound quality, comfort, and durability. Some earbuds also come with additional features such as noise-cancellation or sweat-resistance for sports and exercise. \\n\\nOverall, earbuds are a convenient and practical way to enjoy your favorite audio content wherever you go.'"
      ]
     },
     "execution_count": 24,
     "metadata": {},
     "output_type": "execute_result"
    }
   ],
   "source": [
    "chain.run(\"earbuds\")"
   ]
  },
  {
   "cell_type": "code",
   "execution_count": null,
   "metadata": {
    "colab": {
     "base_uri": "https://localhost:8080/",
     "height": 244
    },
    "id": "ry55M55S2AIx",
    "outputId": "4a09bc57-1df6-40fc-fb83-85f23d5f1d89"
   },
   "outputs": [
    {
     "data": {
      "application/vnd.google.colaboratory.intrinsic+json": {
       "type": "string"
      },
      "text/plain": [
       "\"\\n\\nSure, I'd be happy to assist you in understanding the basics of a laptop. A laptop is a portable and compact computer that is designed to be used on the go. It typically consists of a screen, keyboard, touchpad, and speakers all built into a single unit.\\n\\nThe screen of a laptop can vary in size, but it is usually between 13-15 inches diagonally. It displays information and images and allows you to interact with the laptop through touch or a mouse.\\n\\nThe keyboard is used for typing and inputting commands into the laptop. It typically includes letters, numbers, and special keys for various functions. Some laptops also have a touchpad, which acts as a mouse and allows you to navigate and click on the screen without using an external mouse.\\n\\nLaptops also have built-in speakers that allow you to listen to music, watch videos, or participate in video calls.\\n\\nThe main components of a laptop include the processor, memory, storage, and graphics card. The processor is like the brain of the laptop and determines how fast it can process information. The memory, also known as RAM, stores data temporarily and affects the laptop's speed and performance. The storage, also known as the hard drive, is where all your files and documents are saved permanently\""
      ]
     },
     "execution_count": 25,
     "metadata": {},
     "output_type": "execute_result"
    }
   ],
   "source": [
    "chain.run(\"laptop\")"
   ]
  },
  {
   "cell_type": "markdown",
   "metadata": {
    "id": "t2McFZHy_Dah"
   },
   "source": [
    "#### Language Translation Using Zeroshot prompt"
   ]
  },
  {
   "cell_type": "code",
   "execution_count": 7,
   "metadata": {
    "colab": {
     "base_uri": "https://localhost:8080/"
    },
    "id": "YYaeE7Rf_DXU",
    "outputId": "1af96905-f54c-4da4-8bc9-20b725141d96"
   },
   "outputs": [
    {
     "name": "stdout",
     "output_type": "stream",
     "text": [
      "In an easy way translate the following sentence 'How are you' into Tamil\n"
     ]
    }
   ],
   "source": [
    "demo_template1 = '''In an easy way translate the following sentence '{sentence}' into {target_language}'''\n",
    "language_prompt = PromptTemplate(\n",
    "  input_variables=[\"sentence\", 'target_language'],\n",
    "  template=demo_template1,\n",
    ")\n",
    "print(language_prompt.format(sentence=\"How are you\", target_language=\"Tamil\"))"
   ]
  },
  {
   "cell_type": "code",
   "execution_count": 8,
   "metadata": {
    "colab": {
     "base_uri": "https://localhost:8080/",
     "height": 36
    },
    "id": "VRX2eB6m_DUS",
    "outputId": "a5ef6faf-a152-4a67-8647-ec243054112a"
   },
   "outputs": [
    {
     "data": {
      "application/vnd.google.colaboratory.intrinsic+json": {
       "type": "string"
      },
      "text/plain": [
       "'\\n\\nஹலோ நீங்கள் எப்படி இருக்கிறீர்கள்? (halō nīṅkaḷ eppaṭi irukkiṟīrkaḷ?)'"
      ]
     },
     "execution_count": 8,
     "metadata": {},
     "output_type": "execute_result"
    }
   ],
   "source": [
    "chain1 = LLMChain(llm=llm, prompt=language_prompt)\n",
    "chain1.run({'sentence': 'Hello How are you', 'target_language': 'Tamil'})"
   ]
  },
  {
   "cell_type": "markdown",
   "metadata": {},
   "source": [
    "### Few-shot Prompting "
   ]
  },
  {
   "cell_type": "code",
   "execution_count": 9,
   "metadata": {
    "id": "TfB5bol6_DQk"
   },
   "outputs": [],
   "source": [
    "from langchain import FewShotPromptTemplate"
   ]
  },
  {
   "cell_type": "code",
   "execution_count": 10,
   "metadata": {
    "id": "Pw3a3aMUDyaO"
   },
   "outputs": [],
   "source": [
    "examples = [\n",
    "  {\n",
    "    \"word\": \"dog\",\n",
    "    \"translation\": \"நாய்\"\n",
    "  },\n",
    "  {\n",
    "    \"word\": \"cat\",\n",
    "    \"translation\": \"பூனை\"\n",
    "  },\n",
    "  {\n",
    "    \"word\": \"mouse\",\n",
    "    \"translation\": \"எலி\"\n",
    "  },\n",
    "]\n",
    "\n",
    "example_format = '''Word: {word} Translation: {translation}'''\n",
    "\n",
    "example_prompt = PromptTemplate(\n",
    "  input_variables=[\"word\", \"translation\"],template=example_format,\n",
    ")"
   ]
  },
  {
   "cell_type": "code",
   "execution_count": 11,
   "metadata": {
    "id": "YOlMD5ypDyXc"
   },
   "outputs": [],
   "source": [
    "few_shot_prompt = FewShotPromptTemplate(\n",
    "  examples=examples,\n",
    "  example_prompt=example_prompt,\n",
    "  prefix=\"Give me an easy way to Translate\\n\",\n",
    "  suffix=\"Word: {word}\\nTranslation: \",\n",
    "  input_variables=[\"input\"],\n",
    "  example_separator=\"\\n\"\n",
    ")"
   ]
  },
  {
   "cell_type": "code",
   "execution_count": 12,
   "metadata": {
    "colab": {
     "base_uri": "https://localhost:8080/"
    },
    "id": "8lfMCxRxDyUL",
    "outputId": "1e8240de-3a60-48eb-8e09-0f3dd800c2f5"
   },
   "outputs": [
    {
     "name": "stdout",
     "output_type": "stream",
     "text": [
      "Give me an easy way to Translate\n",
      "\n",
      "Word: dog Translation: நாய்\n",
      "Word: cat Translation: பூனை\n",
      "Word: mouse Translation: எலி\n",
      "Word: Elephant\n",
      "Translation: \n"
     ]
    }
   ],
   "source": [
    "print(few_shot_prompt.format(word=\"Elephant\"))"
   ]
  },
  {
   "cell_type": "code",
   "execution_count": 13,
   "metadata": {
    "colab": {
     "base_uri": "https://localhost:8080/",
     "height": 36
    },
    "id": "Jye92MogFXPW",
    "outputId": "9dc2c8c8-1b2a-4948-e3fe-5eb945610533"
   },
   "outputs": [
    {
     "data": {
      "application/vnd.google.colaboratory.intrinsic+json": {
       "type": "string"
      },
      "text/plain": [
       "'சிங்கம்'"
      ]
     },
     "execution_count": 13,
     "metadata": {},
     "output_type": "execute_result"
    }
   ],
   "source": [
    "chain2 = LLMChain(llm=llm, prompt=few_shot_prompt)\n",
    "chain2.run({\"word\": \"lion\"})"
   ]
  },
  {
   "cell_type": "markdown",
   "metadata": {},
   "source": [
    "### Chain of Thoughts"
   ]
  },
  {
   "cell_type": "code",
   "execution_count": 15,
   "metadata": {
    "id": "-DXijRe96WCw"
   },
   "outputs": [],
   "source": [
    "from langchain.chains import LLMChain\n",
    "from langchain.llms import OpenAI\n",
    "from langchain.prompts import PromptTemplate\n",
    "from langchain.chat_models import ChatOpenAI\n",
    "\n",
    "\n",
    "template =\"\"\"\n",
    "Step1 :\n",
    "\n",
    "I have a problem related to {input}. Could you brainstorm three distinct solutions? Please consider a variety of factors such as {perfect_factors}\n",
    "A:\n",
    "\"\"\"\n",
    "\n",
    "prompt = PromptTemplate(\n",
    "    input_variables=[\"input\",\"perfect_factors\"],\n",
    "    template = template\n",
    ")\n",
    "llm = OpenAI(temperature=0.7)\n",
    "chain1 = LLMChain(llm=llm,\n",
    "    prompt=prompt,\n",
    "    output_key=\"solutions\"\n",
    ")\n",
    "\n",
    "template =\"\"\"\n",
    "Step 2:\n",
    "\n",
    "For each of the three proposed solutions, evaluate their potential. Consider their pros and cons, initial effort needed, implementation difficulty, potential challenges, and the expected outcomes. Assign a probability of success and a confidence level to each option based on these factors\n",
    "\n",
    "{solutions}\n",
    "\n",
    "A:\"\"\"\n",
    "\n",
    "prompt = PromptTemplate(\n",
    "    input_variables=[\"solutions\"],\n",
    "    template = template\n",
    ")\n",
    "\n",
    "llm = OpenAI(temperature=0.7)\n",
    "chain2 = LLMChain(llm=llm,\n",
    "    prompt=prompt,\n",
    "    output_key=\"review\"\n",
    ")\n",
    "\n",
    "template =\"\"\"\n",
    "Step 3:\n",
    "\n",
    "For each solution, deepen the thought process. Generate potential scenarios, strategies for implementation, any necessary partnerships or resources, and how potential obstacles might be overcome. Also, consider any potential unexpected outcomes and how they might be handled.\n",
    "\n",
    "{review}\n",
    "\n",
    "A:\"\"\"\n",
    "\n",
    "prompt = PromptTemplate(\n",
    "    input_variables=[\"review\"],\n",
    "    template = template\n",
    ")\n",
    "\n",
    "llm = OpenAI(temperature=0.7)\n",
    "chain3 = LLMChain(llm=llm,\n",
    "    prompt=prompt,\n",
    "    output_key=\"deepen_thought_process\"\n",
    ")\n",
    "\n",
    "template =\"\"\"\n",
    "Step 4:\n",
    "\n",
    "Based on the evaluations and scenarios, rank the solutions in order of promise. Provide a justification for each ranking and offer any final thoughts or considerations for each solution\n",
    "{deepen_thought_process}\n",
    "\n",
    "A:\"\"\"\n",
    "\n",
    "prompt = PromptTemplate(\n",
    "    input_variables=[\"deepen_thought_process\"],\n",
    "    template = template\n",
    ")\n",
    "\n",
    "llm = OpenAI(temperature=0.7)\n",
    "chain4 = LLMChain(llm=llm,\n",
    "    prompt=prompt,\n",
    "    output_key=\"ranked_solutions\"\n",
    ")"
   ]
  },
  {
   "cell_type": "code",
   "execution_count": 16,
   "metadata": {
    "colab": {
     "base_uri": "https://localhost:8080/"
    },
    "id": "GtDi5Kq26V_d",
    "outputId": "479f4304-e3d4-4be0-b0e5-0806e48b1b5d"
   },
   "outputs": [
    {
     "name": "stderr",
     "output_type": "stream",
     "text": [
      "/usr/local/lib/python3.10/dist-packages/langchain_core/_api/deprecation.py:117: LangChainDeprecationWarning: The function `__call__` was deprecated in LangChain 0.1.0 and will be removed in 0.2.0. Use invoke instead.\n",
      "  warn_deprecated(\n"
     ]
    },
    {
     "name": "stdout",
     "output_type": "stream",
     "text": [
      "\n",
      "\n",
      "\u001b[1m> Entering new SequentialChain chain...\u001b[0m\n",
      "\n",
      "\u001b[1m> Finished chain.\u001b[0m\n",
      "{'input': 'human colonization of Mars', 'perfect_factors': 'The distance between Earth and Mars is very large, making regular resupply difficult', 'ranked_solutions': ' Implementing stricter laws and regulations on plastic usage and disposal\\n\\nRank: 1st\\n\\nJustification: This solution has a high probability of success as it directly addresses the root cause of the ocean plastic pollution problem. By implementing stricter laws and regulations, individuals and companies will be held accountable for their plastic usage and disposal. This would also create a ripple effect, as it would raise awareness and encourage people to reduce their plastic consumption. The confidence level is also medium to high, as many countries have already implemented similar measures with positive results. However, there may be challenges in enforcement and compliance, which may affect the overall success of this solution.\\n\\nB: Investing in and promoting alternative, biodegradable materials\\n\\nRank: 2nd\\n\\nJustification: This solution also has a high probability of success as it offers a sustainable and environmentally-friendly alternative to plastic. With proper investment and promotion, biodegradable materials can become more accessible and widely used, reducing the demand for plastic products. The confidence level is also medium to high, as there are already successful examples of biodegradable materials being used in various industries. However, there may be challenges in scaling up production and making these materials cost-effective, which could limit their effectiveness in reducing plastic pollution.\\n\\nC: Implementing community-based clean'}\n"
     ]
    }
   ],
   "source": [
    "from langchain.chains import SequentialChain\n",
    "\n",
    "overall_chain = SequentialChain(\n",
    "    chains=[chain1, chain2, chain3, chain4],\n",
    "    input_variables=[\"input\", \"perfect_factors\"],\n",
    "    output_variables=[\"ranked_solutions\"],\n",
    "    verbose=True\n",
    ")\n",
    "\n",
    "print(overall_chain({\"input\":\"human colonization of Mars\", \"perfect_factors\":\"The distance between Earth and Mars is very large, making regular resupply difficult\"}))\n"
   ]
  }
 ],
 "metadata": {
  "colab": {
   "provenance": []
  },
  "kernelspec": {
   "display_name": "Python 3 (ipykernel)",
   "language": "python",
   "name": "python3"
  },
  "language_info": {
   "codemirror_mode": {
    "name": "ipython",
    "version": 3
   },
   "file_extension": ".py",
   "mimetype": "text/x-python",
   "name": "python",
   "nbconvert_exporter": "python",
   "pygments_lexer": "ipython3",
   "version": "3.10.13"
  }
 },
 "nbformat": 4,
 "nbformat_minor": 4
}
