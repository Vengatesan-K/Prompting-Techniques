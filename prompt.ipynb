{
 "cells": [
  {
   "cell_type": "markdown",
   "metadata": {},
   "source": [
    "## Prompt Techniques"
   ]
  },
  {
   "cell_type": "code",
   "execution_count": 15,
   "metadata": {
    "id": "iyUXqCZ0160e"
   },
   "outputs": [],
   "source": [
    "#pip install langchain"
   ]
  },
  {
   "cell_type": "code",
   "execution_count": 16,
   "metadata": {
    "id": "twjBFDSu4fAT"
   },
   "outputs": [],
   "source": [
    "import os\n",
    "\n",
    "os.environ['OPENAI_API_KEY'] = OPENAI_API_KEY"
   ]
  },
  {
   "cell_type": "markdown",
   "metadata": {},
   "source": [
    "#### Prompt Templates"
   ]
  },
  {
   "cell_type": "code",
   "execution_count": 22,
   "metadata": {
    "colab": {
     "base_uri": "https://localhost:8080/"
    },
    "id": "Na5ctjAV1__f",
    "outputId": "5152d82c-b9f0-48d5-9f6c-022c6646d817"
   },
   "outputs": [
    {
     "name": "stdout",
     "output_type": "stream",
     "text": [
      "I want you to act as a product description assistant for people. In a easy way, explain the basics of mobile phone.\n"
     ]
    }
   ],
   "source": [
    "from langchain import PromptTemplate\n",
    "\n",
    "demo_template = \"\"\"I want you to act as a product description assistant for people. In a easy way, explain the basics of {product}.\"\"\"\n",
    "prompt = PromptTemplate(\n",
    "  input_variables=[\"product\"],\n",
    "  template=demo_template,\n",
    ")\n",
    "print(prompt.format(product=\"mobile phone\"))"
   ]
  },
  {
   "cell_type": "markdown",
   "metadata": {},
   "source": [
    "### Zero-Shot prompting"
   ]
  },
  {
   "cell_type": "code",
   "execution_count": 23,
   "metadata": {
    "colab": {
     "base_uri": "https://localhost:8080/",
     "height": 244
    },
    "id": "kNLne2W82AC_",
    "outputId": "58bea27a-ff0a-4ad5-eb0b-7dee2c8fa964"
   },
   "outputs": [
    {
     "data": {
      "application/vnd.google.colaboratory.intrinsic+json": {
       "type": "string"
      },
      "text/plain": [
       "'\\n\\nA mobile phone, also known as a cell phone, is a portable electronic device that allows users to make and receive calls, send and receive text messages, and access the internet. It is an essential tool for communication and has become a common part of our daily lives.\\n\\nAt its core, a mobile phone consists of two main components: a radio transmitter and receiver, and a microprocessor. The radio transmitter and receiver allow the phone to connect to a cellular network, which is a network of towers that transmit and receive signals to and from mobile phones. This network enables users to make and receive calls and messages from virtually anywhere.\\n\\nThe microprocessor, also known as the brain of the phone, handles all the functions and operations of the device. It allows the user to access various features such as making calls, sending messages, accessing the internet, and running various applications.\\n\\nModern mobile phones come equipped with a variety of features and capabilities, making them much more than just a communication device. They have high-resolution touch screens, cameras, internet connectivity, GPS navigation, and the ability to download and use various applications.\\n\\nMobile phones also come in different sizes and shapes, from simple flip phones to sleek smartphones with large screens and advanced features. They can be customized with different cases and accessories to'"
      ]
     },
     "execution_count": 23,
     "metadata": {},
     "output_type": "execute_result"
    }
   ],
   "source": [
    "from langchain.llms import OpenAI\n",
    "from langchain.chains import LLMChain\n",
    "\n",
    "llm = OpenAI(temperature=0.7)\n",
    "chain = LLMChain(llm=llm, prompt=prompt)\n",
    "chain.run(\"mobile phone\")"
   ]
  },
  {
   "cell_type": "code",
   "execution_count": 24,
   "metadata": {
    "colab": {
     "base_uri": "https://localhost:8080/",
     "height": 244
    },
    "id": "ndZsvTp_2AFv",
    "outputId": "60057c4e-0dde-4e9b-d1f9-21f52d22d369"
   },
   "outputs": [
    {
     "data": {
      "application/vnd.google.colaboratory.intrinsic+json": {
       "type": "string"
      },
      "text/plain": [
       "'\\n\\nEarbuds are small, lightweight headphones that fit snugly into your ears. They are designed to provide a convenient and comfortable way to listen to music, podcasts, or other audio on-the-go. \\n\\nMost earbuds have a small, round shape with a soft silicone or foam tip that fits into the ear canal. This helps to block out external noise and provide a better listening experience. \\n\\nEarbuds come in both wired and wireless options. Wired earbuds have a cord that connects to your device, while wireless earbuds use Bluetooth technology to connect wirelessly. \\n\\nOne of the main benefits of earbuds is their portability. They are small enough to fit in your pocket or bag, making them perfect for travel or daily use. \\n\\nWhen choosing earbuds, it is important to consider factors such as sound quality, comfort, and durability. Some earbuds also come with additional features such as noise-cancellation or sweat-resistance for sports and exercise. \\n\\nOverall, earbuds are a convenient and practical way to enjoy your favorite audio content wherever you go.'"
      ]
     },
     "execution_count": 24,
     "metadata": {},
     "output_type": "execute_result"
    }
   ],
   "source": [
    "chain.run(\"earbuds\")"
   ]
  },
  {
   "cell_type": "code",
   "execution_count": 25,
   "metadata": {
    "colab": {
     "base_uri": "https://localhost:8080/",
     "height": 244
    },
    "id": "ry55M55S2AIx",
    "outputId": "4a09bc57-1df6-40fc-fb83-85f23d5f1d89"
   },
   "outputs": [
    {
     "data": {
      "application/vnd.google.colaboratory.intrinsic+json": {
       "type": "string"
      },
      "text/plain": [
       "\"\\n\\nSure, I'd be happy to assist you in understanding the basics of a laptop. A laptop is a portable and compact computer that is designed to be used on the go. It typically consists of a screen, keyboard, touchpad, and speakers all built into a single unit.\\n\\nThe screen of a laptop can vary in size, but it is usually between 13-15 inches diagonally. It displays information and images and allows you to interact with the laptop through touch or a mouse.\\n\\nThe keyboard is used for typing and inputting commands into the laptop. It typically includes letters, numbers, and special keys for various functions. Some laptops also have a touchpad, which acts as a mouse and allows you to navigate and click on the screen without using an external mouse.\\n\\nLaptops also have built-in speakers that allow you to listen to music, watch videos, or participate in video calls.\\n\\nThe main components of a laptop include the processor, memory, storage, and graphics card. The processor is like the brain of the laptop and determines how fast it can process information. The memory, also known as RAM, stores data temporarily and affects the laptop's speed and performance. The storage, also known as the hard drive, is where all your files and documents are saved permanently\""
      ]
     },
     "execution_count": 25,
     "metadata": {},
     "output_type": "execute_result"
    }
   ],
   "source": [
    "chain.run(\"laptop\")"
   ]
  },
  {
   "cell_type": "markdown",
   "metadata": {
    "id": "t2McFZHy_Dah"
   },
   "source": [
    "#### Language Translation"
   ]
  },
  {
   "cell_type": "code",
   "execution_count": 33,
   "metadata": {
    "colab": {
     "base_uri": "https://localhost:8080/"
    },
    "id": "YYaeE7Rf_DXU",
    "outputId": "b560a88e-3d37-4074-817d-52f16e19cbef"
   },
   "outputs": [
    {
     "name": "stdout",
     "output_type": "stream",
     "text": [
      "In an easy way translate the following sentence 'How are you' into Tamil\n"
     ]
    }
   ],
   "source": [
    "demo_template1 = '''In an easy way translate the following sentence '{sentence}' into {target_language}'''\n",
    "language_prompt = PromptTemplate(\n",
    "  input_variables=[\"sentence\", 'target_language'],\n",
    "  template=demo_template1,\n",
    ")\n",
    "print(language_prompt.format(sentence=\"How are you\", target_language=\"Tamil\"))"
   ]
  },
  {
   "cell_type": "code",
   "execution_count": 37,
   "metadata": {
    "colab": {
     "base_uri": "https://localhost:8080/",
     "height": 36
    },
    "id": "VRX2eB6m_DUS",
    "outputId": "2b9ead02-db26-4b1b-db52-d4aca1c97edc"
   },
   "outputs": [
    {
     "data": {
      "application/vnd.google.colaboratory.intrinsic+json": {
       "type": "string"
      },
      "text/plain": [
       "'\\n\\nஹலோ நீங்கள் எப்படி இருக்கிறீர்கள்? (halō nīṅkaḷ eppaṭi irukkiṟīrkaḷ?)'"
      ]
     },
     "execution_count": 37,
     "metadata": {},
     "output_type": "execute_result"
    }
   ],
   "source": [
    "chain1 = LLMChain(llm=llm, prompt=language_prompt)\n",
    "chain1.run({'sentence': 'Hello How are you', 'target_language': 'Tamil'})"
   ]
  },
  {
   "cell_type": "markdown",
   "metadata": {},
   "source": [
    "### Few-shot Prompting"
   ]
  },
  {
   "cell_type": "code",
   "execution_count": 47,
   "metadata": {
    "id": "TfB5bol6_DQk"
   },
   "outputs": [],
   "source": [
    "from langchain import FewShotPromptTemplate"
   ]
  },
  {
   "cell_type": "code",
   "execution_count": 58,
   "metadata": {
    "id": "Pw3a3aMUDyaO"
   },
   "outputs": [],
   "source": [
    "examples = [\n",
    "  {\n",
    "    \"word\": \"dog\",\n",
    "    \"translation\": \"நாய்\"\n",
    "  },\n",
    "  {\n",
    "    \"word\": \"cat\",\n",
    "    \"translation\": \"பூனை\"\n",
    "  },\n",
    "  {\n",
    "    \"word\": \"mouse\",\n",
    "    \"translation\": \"எலி\"\n",
    "  },\n",
    "]\n",
    "\n",
    "example_format = '''Word: {word} Translation: {translation}'''\n",
    "\n",
    "example_prompt = PromptTemplate(\n",
    "  input_variables=[\"word\", \"translation\"],template=example_format,\n",
    ")"
   ]
  },
  {
   "cell_type": "code",
   "execution_count": 59,
   "metadata": {
    "id": "YOlMD5ypDyXc"
   },
   "outputs": [],
   "source": [
    "few_shot_prompt = FewShotPromptTemplate(\n",
    "  examples=examples,\n",
    "  example_prompt=example_prompt,\n",
    "  prefix=\"Give me an easy way to Translate\\n\",\n",
    "  suffix=\"Word: {word}\\nTranslation: \",\n",
    "  input_variables=[\"input\"],\n",
    "  example_separator=\"\\n\"\n",
    ")"
   ]
  },
  {
   "cell_type": "code",
   "execution_count": 60,
   "metadata": {
    "colab": {
     "base_uri": "https://localhost:8080/"
    },
    "id": "8lfMCxRxDyUL",
    "outputId": "a336769f-e040-4cb6-d7d6-7bf2b8a11230"
   },
   "outputs": [
    {
     "name": "stdout",
     "output_type": "stream",
     "text": [
      "Give me an easy way to Translate\n",
      "\n",
      "Word: dog Translation: நாய்\n",
      "Word: cat Translation: பூனை\n",
      "Word: mouse Translation: எலி\n",
      "Word: Elephant\n",
      "Translation: \n"
     ]
    }
   ],
   "source": [
    "print(few_shot_prompt.format(word=\"Elephant\"))"
   ]
  },
  {
   "cell_type": "code",
   "execution_count": 62,
   "metadata": {
    "colab": {
     "base_uri": "https://localhost:8080/",
     "height": 36
    },
    "id": "Jye92MogFXPW",
    "outputId": "c670f03c-daaa-4289-afe3-5a138dc2b6e7"
   },
   "outputs": [
    {
     "data": {
      "application/vnd.google.colaboratory.intrinsic+json": {
       "type": "string"
      },
      "text/plain": [
       "' சிங்கம்'"
      ]
     },
     "execution_count": 62,
     "metadata": {},
     "output_type": "execute_result"
    }
   ],
   "source": [
    "chain2 = LLMChain(llm=llm, prompt=few_shot_prompt)\n",
    "chain2.run({\"word\": \"lion\"})"
   ]
  }
 ],
 "metadata": {
  "colab": {
   "provenance": []
  },
  "kernelspec": {
   "display_name": "Python 3 (ipykernel)",
   "language": "python",
   "name": "python3"
  },
  "language_info": {
   "codemirror_mode": {
    "name": "ipython",
    "version": 3
   },
   "file_extension": ".py",
   "mimetype": "text/x-python",
   "name": "python",
   "nbconvert_exporter": "python",
   "pygments_lexer": "ipython3",
   "version": "3.10.13"
  }
 },
 "nbformat": 4,
 "nbformat_minor": 4
}
